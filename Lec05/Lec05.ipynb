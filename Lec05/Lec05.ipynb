{
 "cells": [
  {
   "cell_type": "markdown",
   "metadata": {},
   "source": [
    "Lec 05 : Basic Data Structure: Stacks"
   ]
  },
  {
   "cell_type": "code",
   "execution_count": 2,
   "metadata": {},
   "outputs": [
    {
     "name": "stdout",
     "output_type": "stream",
     "text": [
      "True\n"
     ]
    }
   ],
   "source": [
    "class Stack:\n",
    "    def __init__(self):\n",
    "        self.items = []\n",
    "\n",
    "    def is_empty(self):\n",
    "        return self.items == []\n",
    "\n",
    "    def push(self, item):\n",
    "        self.items.append(item)\n",
    "\n",
    "    def pop(self):\n",
    "        return self.items.pop()\n",
    "\n",
    "    def peek(self):\n",
    "        return self.items[len(self.items) - 1]\n",
    "\n",
    "    def size(self):\n",
    "        return len(self.items)\n",
    "\n",
    "    def pop_all(self):\n",
    "        self.items.clear()\n",
    "\n",
    "s = Stack()\n",
    "print(s.is_empty())  # 이제 True 출력됨\n",
    "\n",
    "\n",
    "def par_checker(symbol_string):\n",
    "    s = Stack()\n",
    "    balanced = True\n",
    "    index = 0\n",
    "\n",
    "    while index < len(symbol_string) and balanced:\n",
    "        symbol = symbol_string[index]\n",
    "        if symbol == \"(\":\n",
    "            s.push(symbol)\n",
    "        else:  # 닫는 괄호\n",
    "            if s.is_empty():\n",
    "                balanced = False\n",
    "            else:\n",
    "                s.pop()\n",
    "        index = index + 1\n",
    "\n",
    "    if balanced and s.is_empty():\n",
    "        return True\n",
    "    else:\n",
    "        return False\n"
   ]
  },
  {
   "cell_type": "markdown",
   "metadata": {},
   "source": [
    "## 1번"
   ]
  },
  {
   "cell_type": "code",
   "execution_count": 4,
   "metadata": {},
   "outputs": [],
   "source": [
    "def reverse(input_str):\n",
    "    st = Stack()\n",
    "    for i in range(len(input_str)):\n",
    "        st.push(input_str[i])\n",
    "\n",
    "    out = \"\"\n",
    "    while not st.is_empty():\n",
    "        out += st.pop()\n",
    "\n",
    "    return out"
   ]
  },
  {
   "cell_type": "code",
   "execution_count": 5,
   "metadata": {},
   "outputs": [
    {
     "name": "stdout",
     "output_type": "stream",
     "text": [
      "Input string:  Test Seq 12345\n",
      "Reversed string:  54321 qeS tseT\n"
     ]
    }
   ],
   "source": [
    "input_str = \"Test Seq 12345\"\n",
    "answer = reverse(input_str)\n",
    "\n",
    "print(\"Input string: \", input_str)\n",
    "print(\"Reversed string: \", answer)\n"
   ]
  },
  {
   "cell_type": "markdown",
   "metadata": {},
   "source": [
    "## 2번"
   ]
  },
  {
   "cell_type": "code",
   "execution_count": null,
   "metadata": {},
   "outputs": [
    {
     "name": "stdout",
     "output_type": "stream",
     "text": [
      "True\n",
      "False\n",
      "False\n",
      "False\n"
     ]
    }
   ],
   "source": [
    "print(par_checker(\"((()))\"))        \n",
    "print(par_checker(\"(()\"))           \n",
    "print(par_checker(\")(\"))            \n",
    "print(par_checker(\"(2+3)*(4+5)\"))   \n"
   ]
  },
  {
   "cell_type": "markdown",
   "metadata": {},
   "source": [
    "## 3번"
   ]
  },
  {
   "cell_type": "code",
   "execution_count": 6,
   "metadata": {},
   "outputs": [],
   "source": [
    "def divide_by_2(decimal_number):\n",
    "    s = Stack()\n",
    "\n",
    "    while decimal_number > 0:\n",
    "        remainder = decimal_number % 2\n",
    "        s.push(str(remainder))  # 문자열로 저장\n",
    "        decimal_number = decimal_number // 2\n",
    "\n",
    "    binary_string = \"\"\n",
    "    while not s.is_empty():\n",
    "        binary_string += s.pop()\n",
    "\n",
    "    return binary_string"
   ]
  },
  {
   "cell_type": "code",
   "execution_count": 7,
   "metadata": {},
   "outputs": [
    {
     "name": "stdout",
     "output_type": "stream",
     "text": [
      "110111\n",
      "1111011\n",
      "1\n",
      "\n"
     ]
    }
   ],
   "source": [
    "print(divide_by_2(55))    # 출력: 110111\n",
    "print(divide_by_2(123))   # 출력: 1111011\n",
    "print(divide_by_2(1))     # 출력: 1\n",
    "print(divide_by_2(0))     # 출력: \"\" (예외 처리 원하면 추가 가능)"
   ]
  }
 ],
 "metadata": {
  "kernelspec": {
   "display_name": "Python 3",
   "language": "python",
   "name": "python3"
  },
  "language_info": {
   "codemirror_mode": {
    "name": "ipython",
    "version": 3
   },
   "file_extension": ".py",
   "mimetype": "text/x-python",
   "name": "python",
   "nbconvert_exporter": "python",
   "pygments_lexer": "ipython3",
   "version": "3.8.10"
  }
 },
 "nbformat": 4,
 "nbformat_minor": 2
}
